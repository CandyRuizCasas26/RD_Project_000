{
 "cells": [
  {
   "cell_type": "markdown",
   "metadata": {},
   "source": [
    "# Ejemplos de la libreria opencv"
   ]
  },
  {
   "cell_type": "markdown",
   "metadata": {},
   "source": [
    "### Ejemplo que toma input de la cámara, calcula la escala de grises, escribe algo en pantalla y lo muestra."
   ]
  },
  {
   "cell_type": "code",
   "execution_count": 1,
   "metadata": {},
   "outputs": [],
   "source": [
    "import cv2\n",
    "\n",
    "capture = cv2.VideoCapture(0) #Tomo como device de captura la camara web\n",
    "\n",
    "while (True):\n",
    "\n",
    "    ret, frame = capture.read() #Leo un frame (de esta manera lea tan rapido como pueda no respeta fps)\n",
    "    frame_h, frame_w = frame.shape[0], frame.shape[1] #IMPORTANTE: el frame es una matriz de shape (y, x, cdad canales)\n",
    "    gray = cv2.cvtColor(frame, cv2.COLOR_BGR2GRAY)  #Cambio el frame a grayscale\n",
    "    gray = cv2.putText(gray, 'Hola', (int(frame_h / 2)-100, int(frame_w / 2)), cv2.FONT_HERSHEY_COMPLEX, 1,\n",
    "                      255)  # Pongo algun texto\n",
    "\n",
    "    cv2.imshow('gris', gray) #Muestro imagen en escala de grises\n",
    "    cv2.imshow('original', frame) #Muestro imagen original\n",
    "\n",
    "\n",
    "    if cv2.waitKey(1) == 27: #Espero la tecla para salir\n",
    "        break\n",
    "\n",
    "capture.release()\n",
    "cv2.destroyAllWindows()"
   ]
  },
  {
   "cell_type": "markdown",
   "metadata": {},
   "source": [
    "### Eventos de opencv"
   ]
  },
  {
   "cell_type": "code",
   "execution_count": 2,
   "metadata": {},
   "outputs": [
    {
     "name": "stdout",
     "output_type": "stream",
     "text": [
      "['EVENT_FLAG_ALTKEY', 'EVENT_FLAG_CTRLKEY', 'EVENT_FLAG_LBUTTON', 'EVENT_FLAG_MBUTTON', 'EVENT_FLAG_RBUTTON', 'EVENT_FLAG_SHIFTKEY', 'EVENT_LBUTTONDBLCLK', 'EVENT_LBUTTONDOWN', 'EVENT_LBUTTONUP', 'EVENT_MBUTTONDBLCLK', 'EVENT_MBUTTONDOWN', 'EVENT_MBUTTONUP', 'EVENT_MOUSEHWHEEL', 'EVENT_MOUSEMOVE', 'EVENT_MOUSEWHEEL', 'EVENT_RBUTTONDBLCLK', 'EVENT_RBUTTONDOWN', 'EVENT_RBUTTONUP']\n"
     ]
    }
   ],
   "source": [
    "import cv2\n",
    "events = [i for i in dir(cv2) if 'EVENT' in i]\n",
    "print(events)"
   ]
  },
  {
   "cell_type": "code",
   "execution_count": 3,
   "metadata": {},
   "outputs": [],
   "source": [
    "import numpy as np\n",
    "import cv2\n",
    "\n",
    "drawing = False\n",
    "prevx, prevy = None,None\n",
    "\n",
    "def draw_circle(event,x,y,flags,param):                 #FUNCION CALLBACK DE MANEJO DE EVENTOS DE MOUSE\n",
    "    global drawing #Me dice si tengo el mouse apretado\n",
    "    global prevx #Posicion x anterior\n",
    "    global prevy #posicion y anterior\n",
    "    img = param\n",
    "    if event == cv2.EVENT_LBUTTONDOWN:         #Cuando apreto el mouse, dibujo un circulo en el lugar\n",
    "        drawing = True                         #y guardo la posicion\n",
    "        img = cv2.circle(img,(x,y),2,(255,255,255), -1)\n",
    "        prevx, prevy = x, y\n",
    "    elif event == cv2.EVENT_MOUSEMOVE:         #Cuando muevo el mouse, me fijo si el mouse sigue apretado\n",
    "        if drawing == True:                    #Si lo esta, dibujo una linea desde la posiciona anterior a la actual\n",
    "            img = cv2.line(img,(prevx, prevy),(x,y),(255, 255, 255), 2)\n",
    "            prevx, prevy = x, y\n",
    "    elif event == cv2.EVENT_LBUTTONUP:        #Cuando suelto el boton dibujo una ultima linea\n",
    "        drawing = False\n",
    "        img = cv2.line(img,(prevx, prevy),(x,y),(255, 255, 255), 2)\n",
    "        prevx, prevy = None,None\n",
    "        \n",
    "img = np.zeros((100,50,3), np.uint8)  #Creo una imagen negra\n",
    "cv2.namedWindow('Canvas')             #La llamo canvas\n",
    "cv2.setMouseCallback('Canvas',draw_circle, img)  #Seteo los callbacks para el mouse\n",
    "while True:\n",
    "    cv2.imshow('Canvas',img)\n",
    "    if cv2.waitKey(20) & 0xFF == 27:\n",
    "        break\n",
    "cv2.destroyAllWindows()"
   ]
  },
  {
   "cell_type": "markdown",
   "metadata": {},
   "source": [
    "### Cargado y guardado de imagenes desde la computadora\n",
    "Carga una foto de la computadora en escala de grises y la guarda despues de cerrar la imagen como 'nombre_gray'"
   ]
  },
  {
   "cell_type": "code",
   "execution_count": 1,
   "metadata": {},
   "outputs": [],
   "source": [
    "from tkinter import *\n",
    "from tkinter import filedialog\n",
    "import cv2\n",
    "\n",
    "Tk().withdraw()  #Cierro la ventana que me crea tkinter y solo molesta\n",
    "filepath = filedialog.askopenfilename(filetypes=[(\"Image files\",\"*.png\"), (\"Image files\",\"*.jpg\")]) #Pido imagen\n",
    "img = cv2.imread(filepath, cv2.IMREAD_GRAYSCALE) #Cargo con el filepath la imagen\n",
    "while True:\n",
    "    cv2.imshow('Loaded image',img)  #Muestro imagen\n",
    "    if cv2.waitKey(20) & 0xFF == 27:\n",
    "        break\n",
    "cv2.imwrite(\"{0}_{2}.{1}\".format(*filepath.rsplit('.', 1) + ['_gray']), img) #Guardo imagen como nombre_gray\n",
    "cv2.destroyAllWindows()"
   ]
  },
  {
   "cell_type": "code",
   "execution_count": null,
   "metadata": {},
   "outputs": [],
   "source": []
  }
 ],
 "metadata": {
  "kernelspec": {
   "display_name": "Python 3",
   "language": "python",
   "name": "python3"
  },
  "language_info": {
   "codemirror_mode": {
    "name": "ipython",
    "version": 3
   },
   "file_extension": ".py",
   "mimetype": "text/x-python",
   "name": "python",
   "nbconvert_exporter": "python",
   "pygments_lexer": "ipython3",
   "version": "3.7.4"
  }
 },
 "nbformat": 4,
 "nbformat_minor": 4
}
