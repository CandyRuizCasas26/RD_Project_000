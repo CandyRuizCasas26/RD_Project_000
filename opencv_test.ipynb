{
 "cells": [
  {
   "cell_type": "code",
   "execution_count": 19,
   "metadata": {},
   "outputs": [],
   "source": [
    "import cv2\n",
    "\n",
    "capture = cv2.VideoCapture(0) #Tomo como device de captura la camara web\n",
    "\n",
    "while (True):\n",
    "\n",
    "    ret, frame = capture.read() #Leo un frame (de esta manera lea tan rapido como pueda no respeta fps)\n",
    "    frame_h, frame_w = frame.shape[0], frame.shape[1] #IMPORTANTE: el frame es una matriz de shape (y, x, cdad canales)\n",
    "    gray = cv2.cvtColor(frame, cv2.COLOR_BGR2GRAY)  #Cambio el frame a grayscale\n",
    "    gray = cv2.putText(gray, 'Hola', (int(frame_h / 2)-100, int(frame_w / 2)), cv2.FONT_HERSHEY_COMPLEX, 1,\n",
    "                      255)  # Pongo algun texto\n",
    "\n",
    "    cv2.imshow('gris', gray) #Muestro imagen en escala de grises\n",
    "    cv2.imshow('original', frame) #Muestro imagen original\n",
    "\n",
    "\n",
    "    if cv2.waitKey(1) == 27: #Espero la tecla para salir\n",
    "        break\n",
    "\n",
    "capture.release()\n",
    "cv2.destroyAllWindows()"
   ]
  },
  {
   "cell_type": "code",
   "execution_count": null,
   "metadata": {},
   "outputs": [],
   "source": []
  }
 ],
 "metadata": {
  "kernelspec": {
   "display_name": "Python 3",
   "language": "python",
   "name": "python3"
  },
  "language_info": {
   "codemirror_mode": {
    "name": "ipython",
    "version": 3
   },
   "file_extension": ".py",
   "mimetype": "text/x-python",
   "name": "python",
   "nbconvert_exporter": "python",
   "pygments_lexer": "ipython3",
   "version": "3.7.4"
  }
 },
 "nbformat": 4,
 "nbformat_minor": 4
}
